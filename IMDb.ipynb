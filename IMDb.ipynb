import pandas as pd
import numpy as np
import re
import requests
from bs4 import BeautifulSoup
from pprint import pprint
import csv 


url = 'http://www.imdb.com/chart/top'
response = requests.get(url)
soup = BeautifulSoup(response.text, 'html.parser')

movies = soup.select('td.titleColumn')
links = [a.attrs.get('href') for a in soup.select('td.titleColumn a')]
crew = [a.attrs.get('title') for a in soup.select('td.titleColumn a')]
ratings = [b.attrs.get('data-value') for b in soup.select('td.posterColumn span[name=ir]')]
votes = [b.attrs.get('data-value') for b in soup.select('td.ratingColumn strong')]
imdb = []
for index in range(0, len(movies)):
    movie_string = movies[index].get_text()
    movie = (' '.join(movie_string.split()).replace('.', ''))
    movie_title = movie[len(str(index)) + 1:-7]
    year = re.search('\((.*?)\)', movie_string).group(1)
    place = movie[:len(str(index)) - (len(movie))]
    data = {"movie_title": movie_title,
            "year": year,
            "place": place,
            "star_cast": crew[index],
            "rating": ratings[index],
            "vote": votes[index],
            "link": links[index]}
    imdb.append(data)

#for item in imdb:
 #   print(item['place'], '-', item['movie_title'], '(' + item['year'] + ') -', 'Starring:', item['star_cast'])

star_cast = []
year = []
place = []
name = []
for item in imdb:
    year.append(item["year"])
    place.append(item['place'])
    name.append(item['movie_title'])
    star_cast.append(item["star_cast"])



d = {'Movie Title': (name), 'Year': (year), 'Star Cast': (star_cast)}
df = pd.DataFrame(data=d)
df



df.to_csv(r'./imbdb.csv', sep='\t', encoding='utf-8', header='true')
